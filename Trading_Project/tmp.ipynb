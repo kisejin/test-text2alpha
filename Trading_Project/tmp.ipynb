{
 "cells": [
  {
   "cell_type": "code",
   "execution_count": 1,
   "metadata": {},
   "outputs": [],
   "source": [
    "%load_ext autoreload\n",
    "%autoreload 2"
   ]
  },
  {
   "cell_type": "code",
   "execution_count": 12,
   "metadata": {},
   "outputs": [
    {
     "data": {
      "text/plain": [
       "'Error in function my_func \\n===================================================\\nFilename: /tmp/ipykernel_178619/3668953505.py,\\nFunction name: my_func, params: {}\\n\\t-----\\n\\tLine: 10,     result = plus(\"1\",2)\\n \\t-----\\n\\tNote: This error is from your code\\n===================================================\\nFilename: /tmp/ipykernel_178619/3668953505.py,\\nFunction name: plus, params: {\\'a\\': \\'1\\', \\'b\\': 2}\\n\\t-----\\n\\tLine: 5,     return a + b\\n \\t-->ROOT CAUSE: TypeError: can only concatenate str (not \"int\") to str \\n\\t-----\\n\\tNote: This error is from your code\\n'"
      ]
     },
     "execution_count": 12,
     "metadata": {},
     "output_type": "execute_result"
    }
   ],
   "source": [
    "from final_project.Trading_Project.utils.errors_handler import error_tracking_decorator, get_root_cause_error\n",
    "from final_project.Trading_Project.utils.errors_handler.clean_error_message import clean_string, process_string, get_my_code_error\n",
    "\n",
    "def plus(a, b):\n",
    "    return a + b\n",
    "\n",
    "\n",
    "@error_tracking_decorator\n",
    "def my_func():\n",
    "    result = plus(\"1\",2)\n",
    "\n",
    "r, s = my_func()\n",
    "s"
   ]
  },
  {
   "cell_type": "code",
   "execution_count": 8,
   "metadata": {},
   "outputs": [
    {
     "data": {
      "text/plain": [
       "['Error in function my_func',\n",
       " 'Function name: my_func, params: {}\\nLine: 10,     result = plus(\"1\",2)\\nNote: This error is from your code',\n",
       " 'Function name: plus, params: {\\'a\\': \\'1\\', \\'b\\': 2}\\nLine: 5,     return a + b\\n -->ROOT CAUSE: TypeError: can only concatenate str (not \"int\") to str \\nNote: This error is from your code']"
      ]
     },
     "execution_count": 8,
     "metadata": {},
     "output_type": "execute_result"
    }
   ],
   "source": [
    "ss = [('\\n'.join([ssi for ssi in s.split('\\n') if '-----' not in ssi and 'Filename' not in ssi])).strip().replace('\\t', '') for s in s.split(\"===================================================\")]\n",
    "ss\n"
   ]
  },
  {
   "cell_type": "code",
   "execution_count": 4,
   "metadata": {},
   "outputs": [
    {
     "name": "stdout",
     "output_type": "stream",
     "text": [
      "1\n"
     ]
    }
   ],
   "source": [
    "k = {\n",
    "    \"a\": 1\n",
    "}\n",
    "\n",
    "if \"a\" in k:\n",
    "    print(1)"
   ]
  },
  {
   "cell_type": "code",
   "execution_count": 4,
   "metadata": {},
   "outputs": [
    {
     "data": {
      "text/plain": [
       "('Function name: my_func, params: {}\\nLine: 10,     result = plus(\"1\",2)',\n",
       " 'Function name: plus, params: {\\'a\\': \\'1\\', \\'b\\': 2}\\nLine: 5,     return a + b\\n -->ROOT CAUSE: TypeError: can only concatenate str (not \"int\") to str ')"
      ]
     },
     "execution_count": 4,
     "metadata": {},
     "output_type": "execute_result"
    }
   ],
   "source": [
    "import re\n",
    "\n",
    "def clean_error_message(input_str):\n",
    "\n",
    "    \n",
    "    # Replace the matched pattern with an empty string\n",
    "    cleaned_str = re.sub(r'\\nNote: .*', '', input_str)\n",
    "    \n",
    "    return cleaned_str\n",
    "\n",
    "# Test cases\n",
    "input1 = 'Function name: my_func, params: {}\\nLine: 10,     result = plus(\"1\",2)\\nNote: This error is from site package'\n",
    "output1 = clean_error_message(input1)\n",
    "\n",
    "input2 = 'Function name: plus, params: {\\'a\\': \\'1\\', \\'b\\': 2}\\nLine: 5,     return a + b\\n -->ROOT CAUSE: TypeError: can only concatenate str (not \"int\") to str \\nNote: This error is from your code'\n",
    "output2 = clean_error_message(input2)\n",
    "\n",
    "output1, output2\n"
   ]
  },
  {
   "cell_type": "code",
   "execution_count": 13,
   "metadata": {},
   "outputs": [
    {
     "data": {
      "text/plain": [
       "['Function name: my_func, params: {}\\nLine: 10,     result = plus(\"1\",2)']"
      ]
     },
     "execution_count": 13,
     "metadata": {},
     "output_type": "execute_result"
    }
   ],
   "source": [
    "\n",
    "processed_strings = [process_string(clean_string(string)) for string in s.split(\"===================================================\")]\n",
    "processed_strings = get_my_code_error(processed_strings)\n",
    "processed_strings\n"
   ]
  },
  {
   "cell_type": "code",
   "execution_count": 9,
   "metadata": {},
   "outputs": [],
   "source": [
    "from final_project.Trading_Project.utils.file_text_handler import get_code_from_text\n",
    "import backtrader as bt\n",
    "from final_project.Trading_Project.base_strategy import BaseStrategy\n",
    "\n",
    "\n",
    "# exec(get_code_from_text(\"```python\\nimport backtrader as bt\\n\\nclass CustomIchimokuIndicator(bt.Indicator):\\n    \\\"\\\"\\\"\\n    Custom Ichimoku Cloud indicator.\\n    \\\"\\\"\\\"\\n    lines = (\\\"tenkan\\\", \\\"kijun\\\", \\\"senkou_a\\\", \\\"senkou_b\\\")\\n    params = ((\\\"tenkan_period\\\", 9), (\\\"kijun_period\\\", 26), (\\\"senkou_period\\\", 52))\\n\\n    def __init__(self):\\n        self.addminperiod(self.params.tenkan_period)\\n        self.addminperiod(self.params.kijun_period)\\n        self.addminperiod(self.params.senkou_period)\\n\\n    def next(self):\\n        high = self.data.high\\n        low = self.data.low\\n        close = self.data.close\\n\\n        tenkan = (high.rolling(window=self.params.tenkan_period).max() + low.rolling(window=self.params.tenkan_period).min()) / 2\\n        kijun = (high.rolling(window=self.params.kijun_period).max() + low.rolling(window=self.params.kijun_period).min()) / 2\\n        senkou_a = (tenkan + kijun) / 2\\n        senkou_b = (high.rolling(window=self.params.senkou_period).max() + low.rolling(window=self.params.senkou_period).min()) / 2\\n\\n        self.lines.tenkan[0] = tenkan[0]\\n        self.lines.kijun[0] = kijun[0]\\n        self.lines.senkou_a[0] = senkou_a[0]\\n        self.lines.senkou_b[0] = senkou_b[0]\\n\\n\\nclass BackTestStrategy(BaseStrategy):\\n    def __init__(self, *args, **kwargs):\\n        super().__init__(*args, **kwargs)\\n        self.ichimoku = CustomIchimokuIndicator()\\n\\n    def execute(self):\\n        \\\"\\\"\\\"\\n        Define the trading logic based on the Ichimoku Cloud indicator.\\n\\n        Returns:\\n        int: Trading signal: 1 (long), -1 (sell), or None if no signal.\\n        \\\"\\\"\\\"\\n        if self.ichimoku.tenkan[0] > self.ichimoku.kijun[0] and self.ichimoku.senkou_a[0] > self.ichimoku.senkou_b[0]:\\n            return 1  # Long signal\\n        elif self.ichimoku.tenkan[0] < self.ichimoku.kijun[0] and self.ichimoku.senkou_a[0] < self.ichimoku.senkou_b[0]:\\n            return -1  # Short signal\\n        return None  # No signal\\n```\"), globals())\n",
    "\n",
    "\n",
    "import math\n",
    "\n",
    "class GannAngle(bt.Indicator):\n",
    "    lines = (\"angle\",)\n",
    "    params = ((\"period\", 1),)\n",
    "\n",
    "    def __init__(self):\n",
    "        self.addminperiod(self.params.period)\n",
    "\n",
    "    def next(self):\n",
    "        if len(self) == 1:\n",
    "            self.lines.angle[0] = 0  # Initialize Gann Angle at the beginning\n",
    "        else:\n",
    "            high = self.data.high[0]\n",
    "            low = self.data.low[0]\n",
    "            close = self.data.close[0]\n",
    "            self.lines.angle[0] = math.atan((high - low) / close) * (180 / math.pi)\n",
    "\n",
    "class BackTestStrategy(BaseStrategy):\n",
    "    def __init__(self, *args, **kwargs):\n",
    "        super().__init__(*args, **kwargs)\n",
    "        # Initialize the Gann Angle indicator\n",
    "        self.gann_angle = GannAngle()\n",
    "        # Initialize the RSI indicator\n",
    "        self.rsi = bt.indicators.RSI_SMA(self.data.close, period=14)\n",
    "\n",
    "    def execute(self):\n",
    "        \"\"\"\n",
    "        Define the trading logic based on the Gann Angle and RSI indicators.\n",
    "\n",
    "        Returns:\n",
    "        int: Trading signal: 1 (long), -1 (sell), or None if no signal.\n",
    "        \"\"\"\n",
    "        if self.gann_angle[0] > 45 and self.rsi[0] > 50:  # Buy condition: Gann Angle indicates support and RSI is above 50\n",
    "            return 1  # Long signal\n",
    "        elif self.gann_angle[0] < 45 and self.rsi[0] < 50:  # Sell condition: Gann Angle indicates resistance and RSI is below 50\n",
    "            return -1  # Short signal\n",
    "        return None  # No signal"
   ]
  },
  {
   "cell_type": "code",
   "execution_count": 6,
   "metadata": {},
   "outputs": [
    {
     "name": "stderr",
     "output_type": "stream",
     "text": [
      "[*********************100%%**********************]  1 of 1 completed\n"
     ]
    }
   ],
   "source": [
    "from final_project.Trading_Project.data_loader import load_stock_data\n",
    "\n",
    "data = [bt.feeds.PandasData(\n",
    "                dataname=load_stock_data(ticker='AAPL', period=\"1y\"), datetime=\"Date\", \n",
    "                timeframe=bt.TimeFrame.Minutes)]\n",
    "\n"
   ]
  },
  {
   "cell_type": "code",
   "execution_count": 10,
   "metadata": {},
   "outputs": [
    {
     "name": "stdout",
     "output_type": "stream",
     "text": [
      "Error in function _run_cerebro \n",
      "===================================================\n",
      "Filename: /tmp/ipykernel_79758/2660629132.py,\n",
      "Function name: _run_cerebro, params: {}\n",
      "\t-----\n",
      "\tLine: 34,         self.cerebro.run()\n",
      " \t-----\n",
      "\tNote: This error is from your code\n",
      "===================================================\n",
      "Filename: /home/zeus/miniconda3/envs/cloudspace/lib/python3.10/site-packages/backtrader/cerebro.py,\n",
      "Function name: run, params: {'kwargs': {}, 'pkeys': \"odict_keys(['preload', 'runonce'...\", 'iterstrats': '<itertools.product object at 0x7...', 'iterstrat': \"((<class 'final_project.Trading_...\"}\n",
      "\t-----\n",
      "\tLine: 1132,                 runstrat = self.runstrategies(iterstrat)\n",
      " \t-----\n",
      "\tNote: This error is from site-packages\n",
      "===================================================\n",
      "Filename: /home/zeus/miniconda3/envs/cloudspace/lib/python3.10/site-packages/backtrader/cerebro.py,\n",
      "Function name: runstrategies, params: {'iterstrat': \"((<class 'final_project.Trading_...\", 'predata': False, 'runstrats': '[<final_project.Trading_Project....', 'data': '<backtrader.feeds.pandafeed.Pand...', 'stratcls': \"<class 'final_project.Trading_Pr...\", 'sargs': None, 'skwargs': None, 'strat': '<final_project.Trading_Project.m...', 'tz': None, 'defaultsizer': (None, None, None), 'idx': 0, 'multi': False, 'obscls': \"<class 'backtrader.observers.bro...\", 'obsargs': (), 'obskwargs': {}, 'ancls': \"<class 'backtrader.analyzers.ret...\", 'anargs': (), 'ankwargs': {'_name': 'Returns'}, 'sizer': None}\n",
      "\t-----\n",
      "\tLine: 1298,                     self._runonce(runstrats)\n",
      " \t-----\n",
      "\tNote: This error is from site-packages\n",
      "===================================================\n",
      "Filename: /home/zeus/miniconda3/envs/cloudspace/lib/python3.10/site-packages/backtrader/cerebro.py,\n",
      "Function name: _runonce, params: {'runstrats': '[<final_project.Trading_Project....', 'strat': '<final_project.Trading_Project.m...'}\n",
      "\t-----\n",
      "\tLine: 1657,             strat._once()\n",
      " \t-----\n",
      "\tNote: This error is from site-packages\n",
      "===================================================\n",
      "Filename: /home/zeus/miniconda3/envs/cloudspace/lib/python3.10/site-packages/backtrader/lineiterator.py,\n",
      "Function name: _once, params: {'indicator': '<final_project.Trading_Project.m...'}\n",
      "\t-----\n",
      "\tLine: 297,             indicator._once()\n",
      " \t-----\n",
      "\tNote: This error is from site-packages\n",
      "===================================================\n",
      "Filename: /home/zeus/miniconda3/envs/cloudspace/lib/python3.10/site-packages/backtrader/lineiterator.py,\n",
      "Function name: _once, params: {'data': '<backtrader.feeds.pandafeed.Pand...'}\n",
      "\t-----\n",
      "\tLine: 317,         self.oncestart(self._minperiod - 1, self._minperiod)\n",
      " \t-----\n",
      "\tNote: This error is from site-packages\n",
      "===================================================\n",
      "Filename: /home/zeus/miniconda3/envs/cloudspace/lib/python3.10/site-packages/backtrader/indicator.py,\n",
      "Function name: oncestart_via_nextstart, params: {'start': 84, 'end': 85, 'i': 84, 'data': '<backtrader.feeds.pandafeed.Pand...'}\n",
      "\t-----\n",
      "\tLine: 124,             self.nextstart()\n",
      " \t-----\n",
      "\tNote: This error is from site-packages\n",
      "===================================================\n",
      "Filename: /home/zeus/miniconda3/envs/cloudspace/lib/python3.10/site-packages/backtrader/lineiterator.py,\n",
      "Function name: nextstart, params: {}\n",
      "\t-----\n",
      "\tLine: 347,         self.next()\n",
      " \t-----\n",
      "\tNote: This error is from site-packages\n",
      "===================================================\n",
      "Filename: /teamspace/studios/this_studio/final_project/Trading_Project/my_strategy.py,\n",
      "Function name: next, params: {'high': '<backtrader.linebuffer.LineBuffe...', 'low': '<backtrader.linebuffer.LineBuffe...', 'close': '<backtrader.linebuffer.LineBuffe...'}\n",
      "\t-----\n",
      "\tLine: 16,         high_tenkan = max(high.get(-self.params.tenkan_period + 1, 0))\n",
      " \t-->ROOT CAUSE: ValueError: max() arg is an empty sequence \n",
      "\t-----\n",
      "\tNote: This error is from your code\n",
      "\n"
     ]
    }
   ],
   "source": [
    "from final_project.Trading_Project.my_strategy import BackTestStrategy\n",
    "\n",
    "class MyBuySell(bt.observers.BuySell):\n",
    "    plotlines = dict(\n",
    "        buy=dict(marker='$\\u21E7$', markersize=12.0),\n",
    "        sell=dict(marker='$\\u21E9$', markersize=12.0)\n",
    "    )\n",
    "\n",
    "class CelebroCreator:\n",
    "    def __init__(self, strategy, list_of_data, stake=100, cash=20000):\n",
    "        self.cerebro = bt.Cerebro(cheat_on_open=True)\n",
    "\n",
    "        self.cerebro.addstrategy(strategy)\n",
    "        self.cerebro.addanalyzer(bt.analyzers.PyFolio, _name='pyfolio')\n",
    "        self.cerebro.addanalyzer(bt.analyzers.SharpeRatio, _name='SharpeRatio')\n",
    "        self.cerebro.addanalyzer(bt.analyzers.Returns, _name='Returns')\n",
    "        self.cerebro.addobserver(bt.observers.Value)\n",
    "\n",
    "        for data in list_of_data:\n",
    "            self.cerebro.adddata(data)\n",
    "        self.cerebro.broker.set_cash(cash)\n",
    "        bt.observers.BuySell = MyBuySell\n",
    "        \n",
    "        # PREVIOUS\n",
    "        # self.strats = self.cerebro.run()\n",
    "        \n",
    "        # CURRENT\n",
    "        self.strats, self.message = self._run_cerebro()\n",
    "\n",
    "    \n",
    "    # CURRENT\n",
    "    @error_tracking_decorator\n",
    "    def _run_cerebro(self):\n",
    "        self.cerebro.run()\n",
    "\n",
    "\n",
    "    def show(self):\n",
    "        print(\"Final Portfolio Value: %.2f\" % self.cerebro.broker.getvalue())\n",
    "        print(\"Total point return: \", (self.cerebro.broker.getvalue() - self.cerebro.broker.startingcash))\n",
    "\n",
    "        try:\n",
    "            sharpe_ratio = self.strats[0].analyzers.SharpeRatio.get_analysis()['sharperatio']\n",
    "        except:\n",
    "            print('No Buy/Sell Signal! No Sharpe Ratio!')\n",
    "        # Plot the results\n",
    "        figs = self.cerebro.plot(\n",
    "            iplot=False, \n",
    "            # style=\"pincandle\", \n",
    "            # width=60 * 10, height=40 * 10,\n",
    "            figsize=(100, 80),\n",
    "            # sharpe_ratio=sharpe_ratio\n",
    "        )\n",
    "\n",
    "# def check_valid_code(strategy, list_data):\n",
    "    \n",
    "#     @error_tracking_decorator\n",
    "#     def extract_error_message(strategy, list_data):\n",
    "#         CelebroCreator(strategy,list_data)\n",
    "        \n",
    "#     message = extract_error_message(BackTestStrategy, data)\n",
    "#     root_error = get_root_cause_error(message) if message else \"\"\n",
    "#     return root_error\n",
    "def check_valid_code(strategy, list_data):\n",
    "    \n",
    "    obj = CelebroCreator(strategy,list_data)\n",
    "        \n",
    "    message = obj.message\n",
    "    print(message)\n",
    "    root_error = get_root_cause_error(message) if message else \"\"\n",
    "    return root_error\n",
    "\n",
    "error = check_valid_code(BackTestStrategy, data)"
   ]
  },
  {
   "cell_type": "code",
   "execution_count": 3,
   "metadata": {},
   "outputs": [
    {
     "name": "stdout",
     "output_type": "stream",
     "text": [
      "import backtrader as bt\n",
      "import numpy as np\n",
      "\n",
      "class GannAngle(bt.Indicator):\n",
      "    lines = (\"angle\",)\n",
      "    params = ((\"period\", 1),)\n",
      "\n",
      "    def __init__(self):\n",
      "        self.addminperiod(self.params.period)\n",
      "\n",
      "    def next(self):\n",
      "        # Calculate Gann Angle (example implementation, may need adjustment)\n",
      "        self.lines.angle[0] = self.data.close[0] / self.data.close[-self.params.period]\n",
      "\n",
      "class RSI(bt.Indicator):\n",
      "    lines = (\"rsi\",)\n",
      "    params = ((\"period\", 14),)\n",
      "\n",
      "    def __init__(self):\n",
      "        self.addminperiod(self.params.period)\n",
      "        self.up, self.down = 0, 0\n",
      "\n",
      "    def next(self):\n",
      "        # Calculate RSI (example implementation, may need adjustment)\n",
      "        delta = self.data.close[0] - self.data.close[-1]\n",
      "        if delta > 0:\n",
      "            self.up += delta\n",
      "        else:\n",
      "            self.down -= delta\n",
      "\n",
      "        if len(self) >= self.params.period:\n",
      "            self.lines.rsi[0] = 100 - 100 / (1 + self.up / self.down)\n",
      "            self.up, self.down = 0, 0\n",
      "        else:\n",
      "            self.lines.rsi[0] = 0\n",
      "\n",
      "class BackTestStrategy(BaseStrategy):\n",
      "    def __init__(self, *args, **kwargs):\n",
      "        super().__init__(*args, **kwargs)\n",
      "        # Initialize Gann Angle and RSI indicators\n",
      "        self.gann_angle = GannAngle()\n",
      "        self.rsi = RSI()\n",
      "\n",
      "    def execute(self):\n",
      "        \"\"\"\n",
      "        Define the trading logic based on Gann Angles and RSI indicators.\n",
      "\n",
      "        Returns:\n",
      "        int: Trading signal: 1 (long), -1 (sell), or None if no signal.\n",
      "        \"\"\"\n",
      "        if self.gann_angle[0] > 0 and self.rsi[0] > 50:\n",
      "            # Buy condition: Gann Angle indicates support and RSI is above 50\n",
      "            return 1  # Long signal\n",
      "        elif self.gann_angle[0] < 0 and self.rsi[0] < 50:\n",
      "            # Sell condition: Gann Angle indicates resistance and RSI is below 50\n",
      "            return -1  # Short signal\n",
      "        return None  # No signal\n",
      "\n"
     ]
    }
   ],
   "source": [
    "print(\"import backtrader as bt\\nimport numpy as np\\n\\nclass GannAngle(bt.Indicator):\\n    lines = (\\\"angle\\\",)\\n    params = ((\\\"period\\\", 1),)\\n\\n    def __init__(self):\\n        self.addminperiod(self.params.period)\\n\\n    def next(self):\\n        # Calculate Gann Angle (example implementation, may need adjustment)\\n        self.lines.angle[0] = self.data.close[0] / self.data.close[-self.params.period]\\n\\nclass RSI(bt.Indicator):\\n    lines = (\\\"rsi\\\",)\\n    params = ((\\\"period\\\", 14),)\\n\\n    def __init__(self):\\n        self.addminperiod(self.params.period)\\n        self.up, self.down = 0, 0\\n\\n    def next(self):\\n        # Calculate RSI (example implementation, may need adjustment)\\n        delta = self.data.close[0] - self.data.close[-1]\\n        if delta > 0:\\n            self.up += delta\\n        else:\\n            self.down -= delta\\n\\n        if len(self) >= self.params.period:\\n            self.lines.rsi[0] = 100 - 100 / (1 + self.up / self.down)\\n            self.up, self.down = 0, 0\\n        else:\\n            self.lines.rsi[0] = 0\\n\\nclass BackTestStrategy(BaseStrategy):\\n    def __init__(self, *args, **kwargs):\\n        super().__init__(*args, **kwargs)\\n        # Initialize Gann Angle and RSI indicators\\n        self.gann_angle = GannAngle()\\n        self.rsi = RSI()\\n\\n    def execute(self):\\n        \\\"\\\"\\\"\\n        Define the trading logic based on Gann Angles and RSI indicators.\\n\\n        Returns:\\n        int: Trading signal: 1 (long), -1 (sell), or None if no signal.\\n        \\\"\\\"\\\"\\n        if self.gann_angle[0] > 0 and self.rsi[0] > 50:\\n            # Buy condition: Gann Angle indicates support and RSI is above 50\\n            return 1  # Long signal\\n        elif self.gann_angle[0] < 0 and self.rsi[0] < 50:\\n            # Sell condition: Gann Angle indicates resistance and RSI is below 50\\n            return -1  # Short signal\\n        return None  # No signal\\n\")"
   ]
  },
  {
   "cell_type": "code",
   "execution_count": 51,
   "metadata": {},
   "outputs": [
    {
     "ename": "AttributeError",
     "evalue": "type object 'Bar' has no attribute 'result'",
     "output_type": "error",
     "traceback": [
      "\u001b[0;31m---------------------------------------------------------------------------\u001b[0m",
      "\u001b[0;31mAttributeError\u001b[0m                            Traceback (most recent call last)",
      "Cell \u001b[0;32mIn[51], line 23\u001b[0m\n\u001b[1;32m     18\u001b[0m     \u001b[38;5;28;01mpass\u001b[39;00m\n\u001b[1;32m     21\u001b[0m k \u001b[38;5;241m=\u001b[39m Bar\n\u001b[0;32m---> 23\u001b[0m result \u001b[38;5;241m=\u001b[39m \u001b[43mk\u001b[49m\u001b[38;5;241;43m.\u001b[39;49m\u001b[43mget_result\u001b[49m\u001b[43m(\u001b[49m\u001b[43m)\u001b[49m\n\u001b[1;32m     24\u001b[0m result\n",
      "Cell \u001b[0;32mIn[51], line 15\u001b[0m, in \u001b[0;36mFoo.get_result\u001b[0;34m(cls)\u001b[0m\n\u001b[1;32m     13\u001b[0m \u001b[38;5;129m@classmethod\u001b[39m\n\u001b[1;32m     14\u001b[0m \u001b[38;5;28;01mdef\u001b[39;00m \u001b[38;5;21mget_result\u001b[39m(\u001b[38;5;28mcls\u001b[39m):\n\u001b[0;32m---> 15\u001b[0m     \u001b[38;5;28;01mreturn\u001b[39;00m \u001b[38;5;28;43mcls\u001b[39;49m\u001b[38;5;241;43m.\u001b[39;49m\u001b[43mresult\u001b[49m\n",
      "\u001b[0;31mAttributeError\u001b[0m: type object 'Bar' has no attribute 'result'"
     ]
    }
   ],
   "source": [
    "class Foo:\n",
    "    # result = 0\n",
    "    def __init__(self, a=3, b=2):\n",
    "        self.a = a\n",
    "        self.b = b\n",
    "        # Foo.result = 0\n",
    "        self.sum()\n",
    "\n",
    "\n",
    "    def sum(self):\n",
    "        Foo.result = self.a + self.b\n",
    "    \n",
    "    @classmethod\n",
    "    def get_result(cls):\n",
    "        return cls.result\n",
    "\n",
    "    \n",
    "\n",
    "\n",
    "k = Bar\n",
    "\n",
    "result = k.get_result()\n",
    "result"
   ]
  },
  {
   "cell_type": "code",
   "execution_count": 53,
   "metadata": {},
   "outputs": [
    {
     "name": "stdout",
     "output_type": "stream",
     "text": [
      "python\n",
      "import backtrader as bt\n",
      "import numpy as np\n",
      "\n",
      "class GannAngle(bt.Indicator):\n",
      "    lines = (\"angle\",)\n",
      "    params = ((\"period\", 1),)\n",
      "\n",
      "    def __init__(self):\n",
      "        self.addminperiod(self.params.period)\n",
      "\n",
      "    def next(self):\n",
      "        # Calculate Gann Angle (example implementation, may need adjustment)\n",
      "        self.lines.angle[0] = self.data.close[0] / self.data.close[-1] * self.params.period\n",
      "\n",
      "class RSI(bt.Indicator):\n",
      "    lines = (\"rsi\",)\n",
      "    params = ((\"period\", 14),)\n",
      "\n",
      "    def __init__(self):\n",
      "        self.addminperiod(self.params.period)\n",
      "\n",
      "    def next(self):\n",
      "        # Calculate RSI (example implementation, may need adjustment)\n",
      "        delta = np.array(self.data.close[0] - self.data.close[-1])\n",
      "        up, down = delta.copy(), delta.copy()\n",
      "        up[up < 0] = 0\n",
      "        down[down > 0] = 0\n",
      "        roll_up = bt.indicators.SumN(up, period=self.params.period)\n",
      "        roll_down = bt.indicators.SumN(down, period=self.params.period).abs()\n",
      "        self.lines.rsi[0] = 100.0 - 100.0 / (1.0 + roll_up / roll_down)\n",
      "\n",
      "class BackTestStrategy(BaseStrategy):\n",
      "    def __init__(self, *args, **kwargs):\n",
      "        super().__init__(*args, **kwargs)\n",
      "        self.gann_angle = GannAngle()\n",
      "        self.rsi = RSI()\n",
      "\n",
      "    def execute(self):\n",
      "        if self.gann_angle[0] > 0 and self.rsi[0] > 50:\n",
      "            # Buy condition: Gann Angle indicates support and RSI is above 50\n",
      "            return 1  # Long signal\n",
      "        elif self.gann_angle[0] < 0 and self.rsi[0] < 50:\n",
      "            # Sell condition: Gann Angle indicates resistance and RSI is below 50\n",
      "            return -1  # Short signal\n",
      "        return None  # No signal\n",
      "\n"
     ]
    }
   ],
   "source": [
    "print(\"python\\nimport backtrader as bt\\nimport numpy as np\\n\\nclass GannAngle(bt.Indicator):\\n    lines = (\\\"angle\\\",)\\n    params = ((\\\"period\\\", 1),)\\n\\n    def __init__(self):\\n        self.addminperiod(self.params.period)\\n\\n    def next(self):\\n        # Calculate Gann Angle (example implementation, may need adjustment)\\n        self.lines.angle[0] = self.data.close[0] / self.data.close[-1] * self.params.period\\n\\nclass RSI(bt.Indicator):\\n    lines = (\\\"rsi\\\",)\\n    params = ((\\\"period\\\", 14),)\\n\\n    def __init__(self):\\n        self.addminperiod(self.params.period)\\n\\n    def next(self):\\n        # Calculate RSI (example implementation, may need adjustment)\\n        delta = np.array(self.data.close[0] - self.data.close[-1])\\n        up, down = delta.copy(), delta.copy()\\n        up[up < 0] = 0\\n        down[down > 0] = 0\\n        roll_up = bt.indicators.SumN(up, period=self.params.period)\\n        roll_down = bt.indicators.SumN(down, period=self.params.period).abs()\\n        self.lines.rsi[0] = 100.0 - 100.0 / (1.0 + roll_up / roll_down)\\n\\nclass BackTestStrategy(BaseStrategy):\\n    def __init__(self, *args, **kwargs):\\n        super().__init__(*args, **kwargs)\\n        self.gann_angle = GannAngle()\\n        self.rsi = RSI()\\n\\n    def execute(self):\\n        if self.gann_angle[0] > 0 and self.rsi[0] > 50:\\n            # Buy condition: Gann Angle indicates support and RSI is above 50\\n            return 1  # Long signal\\n        elif self.gann_angle[0] < 0 and self.rsi[0] < 50:\\n            # Sell condition: Gann Angle indicates resistance and RSI is below 50\\n            return -1  # Short signal\\n        return None  # No signal\\n\")"
   ]
  },
  {
   "cell_type": "code",
   "execution_count": 2,
   "metadata": {},
   "outputs": [
    {
     "name": "stdout",
     "output_type": "stream",
     "text": [
      "Note: you may need to restart the kernel to use updated packages.\n"
     ]
    }
   ],
   "source": [
    "%pip install -qU langchain-openai"
   ]
  },
  {
   "cell_type": "code",
   "execution_count": 12,
   "metadata": {},
   "outputs": [
    {
     "data": {
      "text/plain": [
       "AIMessage(content=\"Here are the formulas for each technical indicator:\\n\\n**Volatility Indicators**\\n\\n1. Keltner Channel:\\n\\t* Upper Channel: EMA(high, n) + (2 * ATR(n))\\n\\t* Lower Channel: EMA(low, n) - (2 * ATR(n))\\n\\t* Middle Channel: EMA(close, n)\\n\\t* Where n is the period, EMA is the Exponential Moving Average, and ATR is the Average True Range\\n2. Donchian Channel:\\n\\t* Upper Channel: Highest high for n periods\\n\\t* Lower Channel: Lowest low for n periods\\n\\t* Middle Channel: (Upper Channel + Lower Channel) / 2\\n3. Historical Volatility (HV):\\n\\t* HV = Stdev(ln(close / close(-1))) * sqrt(252)\\n\\t* Where Stdev is the standard deviation, ln is the natural logarithm, and close(-1) is the previous period's close price\\n\\n**Oscillators**\\n\\n1. Commodity Channel Index (CCI):\\n\\t* CCI = (Typical Price - MA(Typical Price, n)) / (0.015 * Mean Deviation)\\n\\t* Where Typical Price = (High + Low + Close) / 3, MA is the Moving Average, and Mean Deviation is the average absolute deviation from the mean\\n2. Williams %R:\\n\\t* %R = (Highest high for n periods - Close) / (Highest high for n periods - Lowest low for n periods)\\n3. Lane's Stochastic Oscillator:\\n\\t* %K = (Close - Lowest low for n periods) / (Highest high for n periods - Lowest low for n periods)\\n\\t* %D = SMA(%K, n)\\n\\t* Where SMA is the Simple Moving Average\\n4. Detrended Price Oscillator (DPO):\\n\\t* DPO = Close - SMA(Close, n)\\n\\t* Where SMA is the Simple Moving Average\\n\\n**Cycle Indicators**\\n\\n1. Schaff Trend Cycle (STC):\\n\\t* I DON'T KNOW (The STC is a proprietary indicator, and its formula is not publicly available)\\n2. Cycle Identifier:\\n\\t* I DON'T KNOW (I couldn't find a widely recognized formula for this indicator)\\n3. Hurst Exponential Smoothing (HES):\\n\\t* I DON'T KNOW (HES is a complex indicator that involves multiple calculations, and I couldn't find a concise formula to provide)\\n\\n**Other Indicators**\\n\\n1. Fibonacci Retracement:\\n\\t* No formula, as it's a graphical tool used to identify potential support and resistance levels\\n2. Fibonacci Extension:\\n\\t* No formula, as it's a graphical tool used to identify potential price targets\\n3. Pivot Points:\\n\\t* PP = (High + Low + Close) / 3\\n\\t* R1 = PP + (High - Low)\\n\\t* R2 = PP + (High - Low) * 2\\n\\t* R3 = PP + (High - Low) * 3\\n\\t* S1 = PP - (High - Low)\\n\\t* S2 = PP - (High - Low) * 2\\n\\t* S3 = PP - (High - Low) * 3\\n4. Camarilla Pivot Points:\\n\\t* R3 = Close + ((High - Low) * 1.1)\\n\\t* R4 = Close + ((High - Low) * 1.4)\\n\\t* R5 = Close + ((High - Low) * 1.6)\\n\\t* S3 = Close - ((High - Low) * 1.1)\\n\\t* S4 = Close - ((High - Low) * 1.4)\\n\\t* S5 = Close - ((High - Low) * 1.6)\\n5. Demark Indicators (TDI, TD Sequential):\\n\\t* I DON'T KNOW (These indicators are proprietary, and their formulas are not publicly available)\\n6. Elder's Three Screens System:\\n\\t* I DON'T KNOW (This is a trading system that involves multiple indicators and rules, and I couldn't find a concise formula to provide)\\n7. Kagi Chart:\\n\\t* No formula, as it's a graphical charting method that uses vertical lines to represent price movements\\n8. Renko Chart:\\n\\t* No formula, as it's a graphical charting method that uses bricks to represent price movements\\n9. Point and Figure Chart:\\n\\t* No formula, as it's a graphical charting method that uses X's and O's to represent price movements\", response_metadata={'token_usage': {'completion_tokens': 943, 'prompt_tokens': 225, 'total_tokens': 1168}, 'model_name': 'meta-llama/Meta-Llama-3-70B-Instruct', 'system_fingerprint': None, 'finish_reason': 'stop', 'logprobs': None}, id='run-c3dccbfe-1862-48f8-8d41-f051194896f8-0', usage_metadata={'input_tokens': 225, 'output_tokens': 943, 'total_tokens': 1168})"
      ]
     },
     "execution_count": 12,
     "metadata": {},
     "output_type": "execute_result"
    }
   ],
   "source": [
    "import os\n",
    "from langchain_openai import ChatOpenAI\n",
    "os.environ['ANYSCALE_API_KEY'] = \"esecret_bn1yi2ygtils5v241f56sah5el\"\n",
    "os.environ['ANYSCALE_API_BASE'] = \"https://api.endpoints.anyscale.com/v1\"\n",
    "\n",
    "llm = ChatOpenAI(\n",
    "    model=\"meta-llama/Meta-Llama-3-70B-Instruct\",\n",
    "    temperature=0,\n",
    "    max_tokens=2048,\n",
    "    # max_retries=2,\n",
    "    api_key=os.environ['ANYSCALE_API_KEY'],\n",
    "    base_url=os.environ['ANYSCALE_API_BASE'],\n",
    ")\n",
    "\n",
    "\n",
    "query = f\"\"\" With list technical indicators show below\n",
    "**Volatility Indicators**\n",
    "\n",
    "1. Keltner Channel\n",
    "2. Donchian Channel\n",
    "3. Historical Volatility (HV)\n",
    "\n",
    "**Oscillators**\n",
    "\n",
    "1. Commodity Channel Index (CCI)\n",
    "2. Williams %R\n",
    "3. Lane's Stochastic Oscillator\n",
    "4. Detrended Price Oscillator (DPO)\n",
    "\n",
    "**Cycle Indicators**\n",
    "\n",
    "1. Schaff Trend Cycle (STC)\n",
    "2. Cycle Identifier\n",
    "3. Hurst Exponential Smoothing (HES)\n",
    "\n",
    "**Other Indicators**\n",
    "\n",
    "1. Fibonacci Retracement\n",
    "2. Fibonacci Extension\n",
    "3. Pivot Points\n",
    "4. Camarilla Pivot Points\n",
    "5. Demark Indicators (TDI, TD Sequential)\n",
    "6. Elder's Three Screens System\n",
    "7. Kagi Chart\n",
    "8. Renko Chart\n",
    "9. Point and Figure Chart\n",
    "\n",
    "Show the formula for each indicators. If which indicator you don't know, please just show message \"I DON'T KNOW\".\n",
    "\"\"\"\n",
    "\n",
    "messages = [\n",
    "    (\n",
    "        \"system\",\n",
    "        \"You are a helpful assistant.\",\n",
    "    ),\n",
    "    (\"human\", query),\n",
    "]\n",
    "ai_msg = llm.invoke(messages)\n",
    "ai_msg"
   ]
  },
  {
   "cell_type": "code",
   "execution_count": 13,
   "metadata": {},
   "outputs": [
    {
     "name": "stdout",
     "output_type": "stream",
     "text": [
      "content=\"Here are the formulas for each technical indicator:\\n\\n**Volatility Indicators**\\n\\n1. Keltner Channel:\\n\\t* Upper Channel: EMA(high, n) + (2 * ATR(n))\\n\\t* Lower Channel: EMA(low, n) - (2 * ATR(n))\\n\\t* Middle Channel: EMA(close, n)\\n\\t* Where n is the period, EMA is the Exponential Moving Average, and ATR is the Average True Range\\n2. Donchian Channel:\\n\\t* Upper Channel: Highest high for n periods\\n\\t* Lower Channel: Lowest low for n periods\\n\\t* Middle Channel: (Upper Channel + Lower Channel) / 2\\n3. Historical Volatility (HV):\\n\\t* HV = Stdev(ln(close / close(-1))) * sqrt(252)\\n\\t* Where Stdev is the standard deviation, ln is the natural logarithm, and close(-1) is the previous period's close price\\n\\n**Oscillators**\\n\\n1. Commodity Channel Index (CCI):\\n\\t* CCI = (Typical Price - MA(Typical Price, n)) / (0.015 * Mean Deviation)\\n\\t* Where Typical Price = (High + Low + Close) / 3, MA is the Moving Average, and Mean Deviation is the average absolute deviation from the mean\\n2. Williams %R:\\n\\t* %R = (Highest high for n periods - Close) / (Highest high for n periods - Lowest low for n periods)\\n3. Lane's Stochastic Oscillator:\\n\\t* %K = (Close - Lowest low for n periods) / (Highest high for n periods - Lowest low for n periods)\\n\\t* %D = SMA(%K, n)\\n\\t* Where SMA is the Simple Moving Average\\n4. Detrended Price Oscillator (DPO):\\n\\t* DPO = Close - SMA(Close, n)\\n\\t* Where SMA is the Simple Moving Average\\n\\n**Cycle Indicators**\\n\\n1. Schaff Trend Cycle (STC):\\n\\t* I DON'T KNOW (The STC is a proprietary indicator, and its formula is not publicly available)\\n2. Cycle Identifier:\\n\\t* I DON'T KNOW (I couldn't find a widely recognized formula for this indicator)\\n3. Hurst Exponential Smoothing (HES):\\n\\t* I DON'T KNOW (HES is a complex indicator that involves multiple calculations, and I couldn't find a concise formula to provide)\\n\\n**Other Indicators**\\n\\n1. Fibonacci Retracement:\\n\\t* No formula, as it's a graphical tool used to identify potential support and resistance levels\\n2. Fibonacci Extension:\\n\\t* No formula, as it's a graphical tool used to identify potential price targets\\n3. Pivot Points:\\n\\t* PP = (High + Low + Close) / 3\\n\\t* R1 = PP + (High - Low)\\n\\t* R2 = PP + (High - Low) * 2\\n\\t* R3 = PP + (High - Low) * 3\\n\\t* S1 = PP - (High - Low)\\n\\t* S2 = PP - (High - Low) * 2\\n\\t* S3 = PP - (High - Low) * 3\\n4. Camarilla Pivot Points:\\n\\t* R3 = Close + ((High - Low) * 1.1)\\n\\t* R4 = Close + ((High - Low) * 1.4)\\n\\t* R5 = Close + ((High - Low) * 1.6)\\n\\t* S3 = Close - ((High - Low) * 1.1)\\n\\t* S4 = Close - ((High - Low) * 1.4)\\n\\t* S5 = Close - ((High - Low) * 1.6)\\n5. Demark Indicators (TDI, TD Sequential):\\n\\t* I DON'T KNOW (These indicators are proprietary, and their formulas are not publicly available)\\n6. Elder's Three Screens System:\\n\\t* I DON'T KNOW (This is a trading system that involves multiple indicators and rules, and I couldn't find a concise formula to provide)\\n7. Kagi Chart:\\n\\t* No formula, as it's a graphical charting method that uses vertical lines to represent price movements\\n8. Renko Chart:\\n\\t* No formula, as it's a graphical charting method that uses bricks to represent price movements\\n9. Point and Figure Chart:\\n\\t* No formula, as it's a graphical charting method that uses X's and O's to represent price movements\" response_metadata={'token_usage': {'completion_tokens': 943, 'prompt_tokens': 225, 'total_tokens': 1168}, 'model_name': 'meta-llama/Meta-Llama-3-70B-Instruct', 'system_fingerprint': None, 'finish_reason': 'stop', 'logprobs': None} id='run-c3dccbfe-1862-48f8-8d41-f051194896f8-0' usage_metadata={'input_tokens': 225, 'output_tokens': 943, 'total_tokens': 1168}\n"
     ]
    }
   ],
   "source": [
    "print(ai_msg)"
   ]
  },
  {
   "cell_type": "code",
   "execution_count": 14,
   "metadata": {},
   "outputs": [
    {
     "name": "stdout",
     "output_type": "stream",
     "text": [
      "**Volatility Indicators**\n",
      "\n",
      "1. Keltner Channel:\n",
      "\t* Upper Channel: EMA(high, n) + (2 * ATR(n))\n",
      "\t* Lower Channel: EMA(low, n) - (2 * ATR(n))\n",
      "\t* Middle Channel: EMA(close, n)\n",
      "\t* Where n is the period, EMA is the Exponential Moving Average, and ATR is the Average True Range\n",
      "2. Donchian Channel:\n",
      "\t* Upper Channel: Highest high for n periods\n",
      "\t* Lower Channel: Lowest low for n periods\n",
      "\t* Middle Channel: (Upper Channel + Lower Channel) / 2\n",
      "3. Historical Volatility (HV):\n",
      "\t* HV = Stdev(ln(close / close(-1))) * sqrt(252)\n",
      "\t* Where Stdev is the standard deviation, ln is the natural logarithm, and close(-1) is the previous period's close price\n",
      "\n",
      "**Oscillators**\n",
      "\n",
      "1. Commodity Channel Index (CCI):\n",
      "\t* CCI = (Typical Price - MA(Typical Price, n)) / (0.015 * Mean Deviation)\n",
      "\t* Where Typical Price = (High + Low + Close) / 3, MA is the Moving Average, and Mean Deviation is the average absolute deviation from the mean\n",
      "2. Williams %R:\n",
      "\t* %R = (Highest high for n periods - Close) / (Highest high for n periods - Lowest low for n periods)\n",
      "3. Lane's Stochastic Oscillator:\n",
      "\t* %K = (Close - Lowest low for n periods) / (Highest high for n periods - Lowest low for n periods)\n",
      "\t* %D = SMA(%K, n)\n",
      "\t* Where SMA is the Simple Moving Average\n",
      "4. Detrended Price Oscillator (DPO):\n",
      "\t* DPO = Close - SMA(Close, n)\n",
      "\t* Where SMA is the Simple Moving Average\n",
      "\n",
      "**Cycle Indicators**\n",
      "\n",
      "1. Schaff Trend Cycle (STC):\n",
      "\t* I DON'T KNOW (The STC is a proprietary indicator, and its formula is not publicly available)\n",
      "2. Cycle Identifier:\n",
      "\t* I DON'T KNOW (I couldn't find a widely recognized formula for this indicator)\n",
      "3. Hurst Exponential Smoothing (HES):\n",
      "\t* I DON'T KNOW (HES is a complex indicator that involves multiple calculations, and I couldn't find a concise formula to provide)\n",
      "\n",
      "**Other Indicators**\n",
      "\n",
      "1. Fibonacci Retracement:\n",
      "\t* No formula, as it's a graphical tool used to identify potential support and resistance levels\n",
      "2. Fibonacci Extension:\n",
      "\t* No formula, as it's a graphical tool used to identify potential price targets\n",
      "3. Pivot Points:\n",
      "\t* PP = (High + Low + Close) / 3\n",
      "\t* R1 = PP + (High - Low)\n",
      "\t* R2 = PP + (High - Low) * 2\n",
      "\t* R3 = PP + (High - Low) * 3\n",
      "\t* S1 = PP - (High - Low)\n",
      "\t* S2 = PP - (High - Low) * 2\n",
      "\t* S3 = PP - (High - Low) * 3\n",
      "4. Camarilla Pivot Points:\n",
      "\t* R3 = Close + ((High - Low) * 1.1)\n",
      "\t* R4 = Close + ((High - Low) * 1.4)\n",
      "\t* R5 = Close + ((High - Low) * 1.6)\n",
      "\t* S3 = Close - ((High - Low) * 1.1)\n",
      "\t* S4 = Close - ((High - Low) * 1.4)\n",
      "\t* S5 = Close - ((High - Low) * 1.6)\n",
      "5. Demark Indicators (TDI, TD Sequential):\n",
      "\t* I DON'T KNOW (These indicators are proprietary, and their formulas are not publicly available)\n",
      "6. Elder's Three Screens System:\n",
      "\t* I DON'T KNOW (This is a trading system that involves multiple indicators and rules, and I couldn't find a concise formula to provide)\n",
      "7. Kagi Chart:\n",
      "\t* No formula, as it's a graphical charting method that uses vertical lines to represent price movements\n",
      "8. Renko Chart:\n",
      "\t* No formula, as it's a graphical charting method that uses bricks to represent price movements\n",
      "9. Point and Figure Chart:\n",
      "\t* No formula, as it's a graphical charting method that uses X's and O's to represent price movements\n"
     ]
    }
   ],
   "source": [
    "print(\"**Volatility Indicators**\\n\\n1. Keltner Channel:\\n\\t* Upper Channel: EMA(high, n) + (2 * ATR(n))\\n\\t* Lower Channel: EMA(low, n) - (2 * ATR(n))\\n\\t* Middle Channel: EMA(close, n)\\n\\t* Where n is the period, EMA is the Exponential Moving Average, and ATR is the Average True Range\\n2. Donchian Channel:\\n\\t* Upper Channel: Highest high for n periods\\n\\t* Lower Channel: Lowest low for n periods\\n\\t* Middle Channel: (Upper Channel + Lower Channel) / 2\\n3. Historical Volatility (HV):\\n\\t* HV = Stdev(ln(close / close(-1))) * sqrt(252)\\n\\t* Where Stdev is the standard deviation, ln is the natural logarithm, and close(-1) is the previous period's close price\\n\\n**Oscillators**\\n\\n1. Commodity Channel Index (CCI):\\n\\t* CCI = (Typical Price - MA(Typical Price, n)) / (0.015 * Mean Deviation)\\n\\t* Where Typical Price = (High + Low + Close) / 3, MA is the Moving Average, and Mean Deviation is the average absolute deviation from the mean\\n2. Williams %R:\\n\\t* %R = (Highest high for n periods - Close) / (Highest high for n periods - Lowest low for n periods)\\n3. Lane's Stochastic Oscillator:\\n\\t* %K = (Close - Lowest low for n periods) / (Highest high for n periods - Lowest low for n periods)\\n\\t* %D = SMA(%K, n)\\n\\t* Where SMA is the Simple Moving Average\\n4. Detrended Price Oscillator (DPO):\\n\\t* DPO = Close - SMA(Close, n)\\n\\t* Where SMA is the Simple Moving Average\\n\\n**Cycle Indicators**\\n\\n1. Schaff Trend Cycle (STC):\\n\\t* I DON'T KNOW (The STC is a proprietary indicator, and its formula is not publicly available)\\n2. Cycle Identifier:\\n\\t* I DON'T KNOW (I couldn't find a widely recognized formula for this indicator)\\n3. Hurst Exponential Smoothing (HES):\\n\\t* I DON'T KNOW (HES is a complex indicator that involves multiple calculations, and I couldn't find a concise formula to provide)\\n\\n**Other Indicators**\\n\\n1. Fibonacci Retracement:\\n\\t* No formula, as it's a graphical tool used to identify potential support and resistance levels\\n2. Fibonacci Extension:\\n\\t* No formula, as it's a graphical tool used to identify potential price targets\\n3. Pivot Points:\\n\\t* PP = (High + Low + Close) / 3\\n\\t* R1 = PP + (High - Low)\\n\\t* R2 = PP + (High - Low) * 2\\n\\t* R3 = PP + (High - Low) * 3\\n\\t* S1 = PP - (High - Low)\\n\\t* S2 = PP - (High - Low) * 2\\n\\t* S3 = PP - (High - Low) * 3\\n4. Camarilla Pivot Points:\\n\\t* R3 = Close + ((High - Low) * 1.1)\\n\\t* R4 = Close + ((High - Low) * 1.4)\\n\\t* R5 = Close + ((High - Low) * 1.6)\\n\\t* S3 = Close - ((High - Low) * 1.1)\\n\\t* S4 = Close - ((High - Low) * 1.4)\\n\\t* S5 = Close - ((High - Low) * 1.6)\\n5. Demark Indicators (TDI, TD Sequential):\\n\\t* I DON'T KNOW (These indicators are proprietary, and their formulas are not publicly available)\\n6. Elder's Three Screens System:\\n\\t* I DON'T KNOW (This is a trading system that involves multiple indicators and rules, and I couldn't find a concise formula to provide)\\n7. Kagi Chart:\\n\\t* No formula, as it's a graphical charting method that uses vertical lines to represent price movements\\n8. Renko Chart:\\n\\t* No formula, as it's a graphical charting method that uses bricks to represent price movements\\n9. Point and Figure Chart:\\n\\t* No formula, as it's a graphical charting method that uses X's and O's to represent price movements\")"
   ]
  },
  {
   "cell_type": "code",
   "execution_count": null,
   "metadata": {},
   "outputs": [],
   "source": []
  }
 ],
 "metadata": {
  "kernelspec": {
   "display_name": "cloudspace",
   "language": "python",
   "name": "python3"
  },
  "language_info": {
   "codemirror_mode": {
    "name": "ipython",
    "version": 3
   },
   "file_extension": ".py",
   "mimetype": "text/x-python",
   "name": "python",
   "nbconvert_exporter": "python",
   "pygments_lexer": "ipython3",
   "version": "3.10.14"
  }
 },
 "nbformat": 4,
 "nbformat_minor": 2
}
